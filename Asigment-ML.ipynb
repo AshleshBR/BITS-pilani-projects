{
 "cells": [
  {
   "cell_type": "markdown",
   "id": "8757ffb4",
   "metadata": {},
   "source": [
    "#### Work Integrated Learning Programmes Division \n",
    "M.Tech (Data Science and Engineering)  \n",
    "Machine Learning \n",
    "DSECLZG565 \n",
    "Second Semester, 2022 -23 \n",
    "Assignment 1 – PS4 \n",
    "Predict Happiness Score "
   ]
  },
  {
   "cell_type": "markdown",
   "id": "69f7294f",
   "metadata": {},
   "source": [
    "            Team members:\n",
    "            Ashlesh BR: 2021sc04863\n",
    "            Navin kumar: 2021sc04553\n",
    "            parmesh kumawat: 2021sc04679"
   ]
  },
  {
   "cell_type": "code",
   "execution_count": 1,
   "id": "fb6d562d",
   "metadata": {},
   "outputs": [],
   "source": [
    "#importing all the necssary libreray\n",
    "import pandas as pd\n",
    "import numpy as np\n",
    "import matplotlib.pyplot as plt\n",
    "import seaborn as sns\n",
    "\n",
    "#importing warnings\n",
    "import warnings\n",
    "\n",
    "\n",
    "warnings.filterwarnings(\"ignore\")\n"
   ]
  },
  {
   "cell_type": "code",
   "execution_count": 2,
   "id": "bf321820",
   "metadata": {},
   "outputs": [
    {
     "data": {
      "text/html": [
       "<div>\n",
       "<style scoped>\n",
       "    .dataframe tbody tr th:only-of-type {\n",
       "        vertical-align: middle;\n",
       "    }\n",
       "\n",
       "    .dataframe tbody tr th {\n",
       "        vertical-align: top;\n",
       "    }\n",
       "\n",
       "    .dataframe thead th {\n",
       "        text-align: right;\n",
       "    }\n",
       "</style>\n",
       "<table border=\"1\" class=\"dataframe\">\n",
       "  <thead>\n",
       "    <tr style=\"text-align: right;\">\n",
       "      <th></th>\n",
       "      <th>Country</th>\n",
       "      <th>Happiness rank</th>\n",
       "      <th>Happiness Score</th>\n",
       "      <th>GDP per capita</th>\n",
       "      <th>Social support</th>\n",
       "      <th>Healthy life</th>\n",
       "      <th>Freedom</th>\n",
       "      <th>Generosity</th>\n",
       "      <th>Corruption</th>\n",
       "      <th>Year</th>\n",
       "    </tr>\n",
       "  </thead>\n",
       "  <tbody>\n",
       "    <tr>\n",
       "      <th>0</th>\n",
       "      <td>Switzerland</td>\n",
       "      <td>1</td>\n",
       "      <td>7.587</td>\n",
       "      <td>1.39651</td>\n",
       "      <td>1.34951</td>\n",
       "      <td>0.94143</td>\n",
       "      <td>0.66557</td>\n",
       "      <td>0.29678</td>\n",
       "      <td>0.41978</td>\n",
       "      <td>2015</td>\n",
       "    </tr>\n",
       "    <tr>\n",
       "      <th>1</th>\n",
       "      <td>Iceland</td>\n",
       "      <td>2</td>\n",
       "      <td>7.561</td>\n",
       "      <td>1.30232</td>\n",
       "      <td>1.40223</td>\n",
       "      <td>0.94784</td>\n",
       "      <td>0.62877</td>\n",
       "      <td>0.43630</td>\n",
       "      <td>0.14145</td>\n",
       "      <td>2015</td>\n",
       "    </tr>\n",
       "    <tr>\n",
       "      <th>2</th>\n",
       "      <td>Denmark</td>\n",
       "      <td>3</td>\n",
       "      <td>7.527</td>\n",
       "      <td>1.32548</td>\n",
       "      <td>1.36058</td>\n",
       "      <td>0.87464</td>\n",
       "      <td>0.64938</td>\n",
       "      <td>0.34139</td>\n",
       "      <td>0.48357</td>\n",
       "      <td>2015</td>\n",
       "    </tr>\n",
       "    <tr>\n",
       "      <th>3</th>\n",
       "      <td>Norway</td>\n",
       "      <td>4</td>\n",
       "      <td>7.522</td>\n",
       "      <td>1.45900</td>\n",
       "      <td>1.33095</td>\n",
       "      <td>0.88521</td>\n",
       "      <td>0.66973</td>\n",
       "      <td>0.34699</td>\n",
       "      <td>0.36503</td>\n",
       "      <td>2015</td>\n",
       "    </tr>\n",
       "    <tr>\n",
       "      <th>4</th>\n",
       "      <td>Canada</td>\n",
       "      <td>5</td>\n",
       "      <td>7.427</td>\n",
       "      <td>1.32629</td>\n",
       "      <td>1.32261</td>\n",
       "      <td>0.90563</td>\n",
       "      <td>0.63297</td>\n",
       "      <td>0.45811</td>\n",
       "      <td>0.32957</td>\n",
       "      <td>2015</td>\n",
       "    </tr>\n",
       "  </tbody>\n",
       "</table>\n",
       "</div>"
      ],
      "text/plain": [
       "       Country  Happiness rank  Happiness Score  GDP per capita  \\\n",
       "0  Switzerland               1            7.587         1.39651   \n",
       "1      Iceland               2            7.561         1.30232   \n",
       "2      Denmark               3            7.527         1.32548   \n",
       "3       Norway               4            7.522         1.45900   \n",
       "4       Canada               5            7.427         1.32629   \n",
       "\n",
       "   Social support  Healthy life  Freedom  Generosity  Corruption  Year  \n",
       "0         1.34951       0.94143  0.66557     0.29678     0.41978  2015  \n",
       "1         1.40223       0.94784  0.62877     0.43630     0.14145  2015  \n",
       "2         1.36058       0.87464  0.64938     0.34139     0.48357  2015  \n",
       "3         1.33095       0.88521  0.66973     0.34699     0.36503  2015  \n",
       "4         1.32261       0.90563  0.63297     0.45811     0.32957  2015  "
      ]
     },
     "execution_count": 2,
     "metadata": {},
     "output_type": "execute_result"
    }
   ],
   "source": [
    "#loading the dataset\n",
    "df=pd.read_csv(\"TEH_World_Happiness_2015_2019_Imputed.csv\")\n",
    "\n",
    "#lets see insights of the data sets\n",
    "df.head()"
   ]
  },
  {
   "cell_type": "code",
   "execution_count": 3,
   "id": "fe171567",
   "metadata": {},
   "outputs": [
    {
     "data": {
      "text/plain": [
       "Country             object\n",
       "Happiness rank       int64\n",
       "Happiness Score    float64\n",
       "GDP per capita     float64\n",
       "Social support     float64\n",
       "Healthy life       float64\n",
       "Freedom            float64\n",
       "Generosity         float64\n",
       "Corruption         float64\n",
       "Year                 int64\n",
       "dtype: object"
      ]
     },
     "execution_count": 3,
     "metadata": {},
     "output_type": "execute_result"
    }
   ],
   "source": [
    "#checking the data types\n",
    "df.dtypes"
   ]
  },
  {
   "cell_type": "code",
   "execution_count": 4,
   "id": "970c11b3",
   "metadata": {},
   "outputs": [
    {
     "data": {
      "text/plain": [
       "Index(['Country', 'Happiness rank', 'Happiness Score', 'GDP per capita',\n",
       "       'Social support', 'Healthy life', 'Freedom', 'Generosity', 'Corruption',\n",
       "       'Year'],\n",
       "      dtype='object')"
      ]
     },
     "execution_count": 4,
     "metadata": {},
     "output_type": "execute_result"
    }
   ],
   "source": [
    "#checking the column values\n",
    "df.columns"
   ]
  },
  {
   "cell_type": "code",
   "execution_count": 5,
   "id": "95b4bcbc",
   "metadata": {},
   "outputs": [
    {
     "data": {
      "text/plain": [
       "(782, 10)"
      ]
     },
     "execution_count": 5,
     "metadata": {},
     "output_type": "execute_result"
    }
   ],
   "source": [
    "#Checking the shape\n",
    "df.shape"
   ]
  },
  {
   "cell_type": "code",
   "execution_count": 6,
   "id": "bbb3854c",
   "metadata": {},
   "outputs": [],
   "source": [
    "#Summary statistics"
   ]
  },
  {
   "cell_type": "code",
   "execution_count": 8,
   "id": "59712517",
   "metadata": {},
   "outputs": [
    {
     "data": {
      "text/html": [
       "<div>\n",
       "<style scoped>\n",
       "    .dataframe tbody tr th:only-of-type {\n",
       "        vertical-align: middle;\n",
       "    }\n",
       "\n",
       "    .dataframe tbody tr th {\n",
       "        vertical-align: top;\n",
       "    }\n",
       "\n",
       "    .dataframe thead th {\n",
       "        text-align: right;\n",
       "    }\n",
       "</style>\n",
       "<table border=\"1\" class=\"dataframe\">\n",
       "  <thead>\n",
       "    <tr style=\"text-align: right;\">\n",
       "      <th></th>\n",
       "      <th>Happiness rank</th>\n",
       "      <th>Happiness Score</th>\n",
       "      <th>GDP per capita</th>\n",
       "      <th>Social support</th>\n",
       "      <th>Healthy life</th>\n",
       "      <th>Freedom</th>\n",
       "      <th>Generosity</th>\n",
       "      <th>Corruption</th>\n",
       "      <th>Year</th>\n",
       "    </tr>\n",
       "  </thead>\n",
       "  <tbody>\n",
       "    <tr>\n",
       "      <th>count</th>\n",
       "      <td>782.000000</td>\n",
       "      <td>782.000000</td>\n",
       "      <td>777.000000</td>\n",
       "      <td>777.000000</td>\n",
       "      <td>777.000000</td>\n",
       "      <td>777.000000</td>\n",
       "      <td>777.000000</td>\n",
       "      <td>775.000000</td>\n",
       "      <td>782.000000</td>\n",
       "    </tr>\n",
       "    <tr>\n",
       "      <th>mean</th>\n",
       "      <td>78.698210</td>\n",
       "      <td>5.379018</td>\n",
       "      <td>0.921942</td>\n",
       "      <td>1.085332</td>\n",
       "      <td>0.616356</td>\n",
       "      <td>0.413736</td>\n",
       "      <td>0.219982</td>\n",
       "      <td>0.126407</td>\n",
       "      <td>2016.993606</td>\n",
       "    </tr>\n",
       "    <tr>\n",
       "      <th>std</th>\n",
       "      <td>45.182384</td>\n",
       "      <td>1.127456</td>\n",
       "      <td>0.401937</td>\n",
       "      <td>0.318999</td>\n",
       "      <td>0.244177</td>\n",
       "      <td>0.149757</td>\n",
       "      <td>0.121445</td>\n",
       "      <td>0.105646</td>\n",
       "      <td>1.417364</td>\n",
       "    </tr>\n",
       "    <tr>\n",
       "      <th>min</th>\n",
       "      <td>1.000000</td>\n",
       "      <td>2.693000</td>\n",
       "      <td>0.015300</td>\n",
       "      <td>0.104190</td>\n",
       "      <td>0.005565</td>\n",
       "      <td>0.005890</td>\n",
       "      <td>0.001990</td>\n",
       "      <td>0.001000</td>\n",
       "      <td>2015.000000</td>\n",
       "    </tr>\n",
       "    <tr>\n",
       "      <th>25%</th>\n",
       "      <td>40.000000</td>\n",
       "      <td>4.509750</td>\n",
       "      <td>0.619000</td>\n",
       "      <td>0.871190</td>\n",
       "      <td>0.443000</td>\n",
       "      <td>0.312000</td>\n",
       "      <td>0.133520</td>\n",
       "      <td>0.055000</td>\n",
       "      <td>2016.000000</td>\n",
       "    </tr>\n",
       "    <tr>\n",
       "      <th>50%</th>\n",
       "      <td>79.000000</td>\n",
       "      <td>5.322000</td>\n",
       "      <td>0.985000</td>\n",
       "      <td>1.125000</td>\n",
       "      <td>0.649547</td>\n",
       "      <td>0.432453</td>\n",
       "      <td>0.202000</td>\n",
       "      <td>0.092000</td>\n",
       "      <td>2017.000000</td>\n",
       "    </tr>\n",
       "    <tr>\n",
       "      <th>75%</th>\n",
       "      <td>118.000000</td>\n",
       "      <td>6.189500</td>\n",
       "      <td>1.238000</td>\n",
       "      <td>1.330000</td>\n",
       "      <td>0.809158</td>\n",
       "      <td>0.531220</td>\n",
       "      <td>0.279920</td>\n",
       "      <td>0.156352</td>\n",
       "      <td>2018.000000</td>\n",
       "    </tr>\n",
       "    <tr>\n",
       "      <th>max</th>\n",
       "      <td>158.000000</td>\n",
       "      <td>7.769000</td>\n",
       "      <td>2.096000</td>\n",
       "      <td>1.644000</td>\n",
       "      <td>1.141000</td>\n",
       "      <td>0.724000</td>\n",
       "      <td>0.838075</td>\n",
       "      <td>0.551910</td>\n",
       "      <td>2019.000000</td>\n",
       "    </tr>\n",
       "  </tbody>\n",
       "</table>\n",
       "</div>"
      ],
      "text/plain": [
       "       Happiness rank  Happiness Score  GDP per capita  Social support  \\\n",
       "count      782.000000       782.000000      777.000000      777.000000   \n",
       "mean        78.698210         5.379018        0.921942        1.085332   \n",
       "std         45.182384         1.127456        0.401937        0.318999   \n",
       "min          1.000000         2.693000        0.015300        0.104190   \n",
       "25%         40.000000         4.509750        0.619000        0.871190   \n",
       "50%         79.000000         5.322000        0.985000        1.125000   \n",
       "75%        118.000000         6.189500        1.238000        1.330000   \n",
       "max        158.000000         7.769000        2.096000        1.644000   \n",
       "\n",
       "       Healthy life     Freedom  Generosity  Corruption         Year  \n",
       "count    777.000000  777.000000  777.000000  775.000000   782.000000  \n",
       "mean       0.616356    0.413736    0.219982    0.126407  2016.993606  \n",
       "std        0.244177    0.149757    0.121445    0.105646     1.417364  \n",
       "min        0.005565    0.005890    0.001990    0.001000  2015.000000  \n",
       "25%        0.443000    0.312000    0.133520    0.055000  2016.000000  \n",
       "50%        0.649547    0.432453    0.202000    0.092000  2017.000000  \n",
       "75%        0.809158    0.531220    0.279920    0.156352  2018.000000  \n",
       "max        1.141000    0.724000    0.838075    0.551910  2019.000000  "
      ]
     },
     "execution_count": 8,
     "metadata": {},
     "output_type": "execute_result"
    }
   ],
   "source": [
    "df.describe()"
   ]
  },
  {
   "cell_type": "code",
   "execution_count": 9,
   "id": "0f6f38fd",
   "metadata": {},
   "outputs": [],
   "source": [
    "#There are few missing values in GDP, Social support, healthylife, freedom, generosity and corruption column\n"
   ]
  },
  {
   "cell_type": "code",
   "execution_count": 10,
   "id": "97d79608",
   "metadata": {},
   "outputs": [
    {
     "data": {
      "text/plain": [
       "Country            0\n",
       "Happiness rank     0\n",
       "Happiness Score    0\n",
       "GDP per capita     5\n",
       "Social support     5\n",
       "Healthy life       5\n",
       "Freedom            5\n",
       "Generosity         5\n",
       "Corruption         7\n",
       "Year               0\n",
       "dtype: int64"
      ]
     },
     "execution_count": 10,
     "metadata": {},
     "output_type": "execute_result"
    }
   ],
   "source": [
    "df.isna().sum()"
   ]
  },
  {
   "cell_type": "code",
   "execution_count": 13,
   "id": "144a4ba1",
   "metadata": {},
   "outputs": [],
   "source": [
    "#droping the NA values\n",
    "df.dropna(inplace=True)"
   ]
  },
  {
   "cell_type": "markdown",
   "id": "587f158c",
   "metadata": {},
   "source": [
    "# EDA"
   ]
  },
  {
   "cell_type": "code",
   "execution_count": 17,
   "id": "f3ece0b8",
   "metadata": {},
   "outputs": [
    {
     "data": {
      "text/plain": [
       "-0.8012570263934811"
      ]
     },
     "execution_count": 17,
     "metadata": {},
     "output_type": "execute_result"
    },
    {
     "data": {
      "image/png": "[encoded data removed]",
      "text/plain": [
       "<Figure size 432x288 with 1 Axes>"
      ]
     },
     "metadata": {
      "needs_background": "light"
     },
     "output_type": "display_data"
    }
   ],
   "source": [
    "#lets check how GDP is affecting the Hapiness rank\n",
    "#economy vs Happiness Score\n",
    "plt.scatter(x=\"GDP per capita\",y=\"Happiness rank\", data=df)\n",
    "plt.title(\" GDP per capita vs Happiness rank\")\n",
    "plt.xlabel(\"GDP per capita\")\n",
    "plt.ylabel(\"Happiness rank\")\n",
    "df[\"GDP per capita\"].corr(df[\"Happiness rank\"])"
   ]
  },
  {
   "cell_type": "markdown",
   "id": "af8afda6",
   "metadata": {},
   "source": [
    "From the above graph we can see that GDP is negetivly corelated with happiness rank\n",
    "i:e as GDP increases the happiness rank decreases hence we can conclude that countries with good happiness rank have high GDP"
   ]
  },
  {
   "cell_type": "code",
   "execution_count": 20,
   "id": "39d1492c",
   "metadata": {},
   "outputs": [
    {
     "data": {
      "text/plain": [
       "-0.7472221675756222"
      ]
     },
     "execution_count": 20,
     "metadata": {},
     "output_type": "execute_result"
    },
    {
     "data": {
      "image/png": "[encoded data removed]",
      "text/plain": [
       "<Figure size 432x288 with 1 Axes>"
      ]
     },
     "metadata": {
      "needs_background": "light"
     },
     "output_type": "display_data"
    }
   ],
   "source": [
    "#=checking how GDP is affecting the Hapiness rank\n",
    "#economy vs Happiness Score\n",
    "plt.scatter(x=\"Happiness rank\",y=\"Healthy life\", data=df)\n",
    "plt.title(\" Happiness rank vs Healthy life\")\n",
    "plt.xlabel(\"Happiness rank\")\n",
    "plt.ylabel(\"Healthy lifea\")\n",
    "df[\"Healthy life\"].corr(df[\"Happiness rank\"])"
   ]
  },
  {
   "cell_type": "markdown",
   "id": "fe7a8f25",
   "metadata": {},
   "source": [
    "From the above graph we can see that Healthy life is negetivly corelated with happiness rank\n",
    "i:e as Healthy life value increases the happiness rank decreases hence we can conclude that countries with good happiness rank have Healthy life"
   ]
  },
  {
   "cell_type": "code",
   "execution_count": 21,
   "id": "0789ba57",
   "metadata": {},
   "outputs": [
    {
     "data": {
      "text/plain": [
       "0.5588430135185913"
      ]
     },
     "execution_count": 21,
     "metadata": {},
     "output_type": "execute_result"
    },
    {
     "data": {
      "image/png": "[encoded data removed]",
      "text/plain": [
       "<Figure size 432x288 with 1 Axes>"
      ]
     },
     "metadata": {
      "needs_background": "light"
     },
     "output_type": "display_data"
    }
   ],
   "source": [
    "# Health (Life Expectancy vs Happiness Score\n",
    "plt.scatter(x=\"Freedom\",y=\"Happiness Score\", data=df)\n",
    "plt.title(\" Health (Freedom vs Happiness Score\")\n",
    "plt.xlabel(\"Freedom\")\n",
    "plt.ylabel(\"Happiness Score\")\n",
    "df[\"Freedom\"].corr(df[\"Happiness Score\"])"
   ]
  },
  {
   "cell_type": "markdown",
   "id": "f21a6894",
   "metadata": {},
   "source": [
    "#Countries with  good freedom of indexs have high Happiness Score , although there are some countries with good freedom index and low happines socre,\n",
    "with .55 corelation value we can say happiness increses with freedom "
   ]
  },
  {
   "cell_type": "code",
   "execution_count": 22,
   "id": "10d04b6a",
   "metadata": {},
   "outputs": [],
   "source": [
    "#lets check the average happiness rank for top 5 countries in last 3 years whcih has highest GDP"
   ]
  },
  {
   "cell_type": "code",
   "execution_count": 35,
   "id": "cf358c6c",
   "metadata": {},
   "outputs": [
    {
     "name": "stdout",
     "output_type": "stream",
     "text": [
      "                         GDP per capita  Happiness rank\n",
      "Country                                                \n",
      "Qatar                          1.743691            32.0\n",
      "Luxembourg                     1.637675            17.2\n",
      "Singapore                      1.592138            28.0\n",
      "Kuwait                         1.555662            43.0\n",
      "Hong Kong S.A.R., China        1.551675            71.0\n",
      "\n",
      "\n",
      "\n",
      "\n",
      "             Freedom  Happiness rank\n",
      "Country                             \n",
      "Uzbekistan  0.655988            45.0\n",
      "Norway      0.638049             2.8\n",
      "Cambodia    0.637871           128.6\n",
      "Oman        0.632740            22.0\n",
      "Denmark     0.625959             2.2\n",
      "\n",
      "\n",
      "                   Corruption  Happiness rank\n",
      "Country                                      \n",
      "Rwanda               0.473468           152.0\n",
      "Singapore            0.467256            28.0\n",
      "Denmark              0.429374             2.2\n",
      "New Zealand          0.400015             8.2\n",
      "Somaliland region    0.399280            91.0\n",
      "\n",
      "\n",
      "                   Social support  Happiness rank\n",
      "Country                                          \n",
      "Iceland                  1.492813             3.2\n",
      "Trinidad & Tobago        1.484500            38.5\n",
      "Denmark                  1.447688             2.2\n",
      "Ireland                  1.445056            16.4\n",
      "New Zealand              1.439729             8.2\n"
     ]
    }
   ],
   "source": [
    "A=df.groupby(['Country'])[\"GDP per capita\",\"Happiness rank\"].mean().sort_values(by=\"GDP per capita\",ascending=False).head(5)\n",
    "print(A)\n",
    "print(\"\\n\")\n",
    "B=df.groupby(['Country'])[\"Freedom\",\"Happiness rank\"].mean().sort_values(by=\"Freedom\",ascending=False).head(5)\n",
    "print(\"\\n\")\n",
    "print(B)\n",
    "C=df.groupby(['Country'])[\"Corruption\",\"Happiness rank\"].mean().sort_values(by=\"Corruption\",ascending=False).head(5)\n",
    "print(\"\\n\")\n",
    "print(C)\n",
    "D=df.groupby(['Country'])[\"Social support\",\"Happiness rank\"].mean().sort_values(by=\"Social support\",ascending=False).head(5)\n",
    "print(\"\\n\")\n",
    "print(D\n",
    "     )"
   ]
  },
  {
   "cell_type": "markdown",
   "id": "d79bf14a",
   "metadata": {},
   "source": [
    "So even through GDP per capita is one of the main variable country should also have good social support and freedom and less corruption"
   ]
  },
  {
   "cell_type": "code",
   "execution_count": 37,
   "id": "a03df3de",
   "metadata": {},
   "outputs": [
    {
     "data": {
      "text/plain": [
       "<AxesSubplot:>"
      ]
     },
     "execution_count": 37,
     "metadata": {},
     "output_type": "execute_result"
    },
    {
     "data": {
      "image/png": "[encoded data removed]",
      "text/plain": [
       "<Figure size 864x720 with 2 Axes>"
      ]
     },
     "metadata": {
      "needs_background": "light"
     },
     "output_type": "display_data"
    }
   ],
   "source": [
    "#checking the correlation for all the variables\n",
    "plt.figure(figsize=(12,10))\n",
    "sns.heatmap(df.corr(),annot=True)"
   ]
  },
  {
   "cell_type": "markdown",
   "id": "a66673a2",
   "metadata": {},
   "source": [
    "From the above heat map you can see how the different variables are effecting the happiness score or happiness rank. year is the least significant variable and GDP is the most"
   ]
  },
  {
   "cell_type": "code",
   "execution_count": 42,
   "id": "3781a0c0",
   "metadata": {},
   "outputs": [],
   "source": [
    "#year is the least significant variable so droping the country and year\n",
    "df.drop(['Year','Country'],axis=1,inplace=True)"
   ]
  },
  {
   "cell_type": "markdown",
   "id": "c8928069",
   "metadata": {},
   "source": [
    "# Data preprocessing and feature enigneering"
   ]
  },
  {
   "cell_type": "code",
   "execution_count": 66,
   "id": "4f4aefed",
   "metadata": {},
   "outputs": [
    {
     "data": {
      "text/html": [
       "<div>\n",
       "<style scoped>\n",
       "    .dataframe tbody tr th:only-of-type {\n",
       "        vertical-align: middle;\n",
       "    }\n",
       "\n",
       "    .dataframe tbody tr th {\n",
       "        vertical-align: top;\n",
       "    }\n",
       "\n",
       "    .dataframe thead th {\n",
       "        text-align: right;\n",
       "    }\n",
       "</style>\n",
       "<table border=\"1\" class=\"dataframe\">\n",
       "  <thead>\n",
       "    <tr style=\"text-align: right;\">\n",
       "      <th></th>\n",
       "      <th>Happiness rank</th>\n",
       "      <th>Happiness Score</th>\n",
       "      <th>GDP per capita</th>\n",
       "      <th>Social support</th>\n",
       "      <th>Healthy life</th>\n",
       "      <th>Freedom</th>\n",
       "      <th>Generosity</th>\n",
       "      <th>Corruption</th>\n",
       "    </tr>\n",
       "  </thead>\n",
       "  <tbody>\n",
       "    <tr>\n",
       "      <th>0</th>\n",
       "      <td>1</td>\n",
       "      <td>7.587</td>\n",
       "      <td>1.39651</td>\n",
       "      <td>1.34951</td>\n",
       "      <td>0.94143</td>\n",
       "      <td>0.66557</td>\n",
       "      <td>0.29678</td>\n",
       "      <td>0.41978</td>\n",
       "    </tr>\n",
       "    <tr>\n",
       "      <th>1</th>\n",
       "      <td>2</td>\n",
       "      <td>7.561</td>\n",
       "      <td>1.30232</td>\n",
       "      <td>1.40223</td>\n",
       "      <td>0.94784</td>\n",
       "      <td>0.62877</td>\n",
       "      <td>0.43630</td>\n",
       "      <td>0.14145</td>\n",
       "    </tr>\n",
       "    <tr>\n",
       "      <th>3</th>\n",
       "      <td>4</td>\n",
       "      <td>7.522</td>\n",
       "      <td>1.45900</td>\n",
       "      <td>1.33095</td>\n",
       "      <td>0.88521</td>\n",
       "      <td>0.66973</td>\n",
       "      <td>0.34699</td>\n",
       "      <td>0.36503</td>\n",
       "    </tr>\n",
       "    <tr>\n",
       "      <th>4</th>\n",
       "      <td>5</td>\n",
       "      <td>7.427</td>\n",
       "      <td>1.32629</td>\n",
       "      <td>1.32261</td>\n",
       "      <td>0.90563</td>\n",
       "      <td>0.63297</td>\n",
       "      <td>0.45811</td>\n",
       "      <td>0.32957</td>\n",
       "    </tr>\n",
       "    <tr>\n",
       "      <th>5</th>\n",
       "      <td>6</td>\n",
       "      <td>7.406</td>\n",
       "      <td>1.29025</td>\n",
       "      <td>1.31826</td>\n",
       "      <td>0.88911</td>\n",
       "      <td>0.64169</td>\n",
       "      <td>0.23351</td>\n",
       "      <td>0.41372</td>\n",
       "    </tr>\n",
       "    <tr>\n",
       "      <th>...</th>\n",
       "      <td>...</td>\n",
       "      <td>...</td>\n",
       "      <td>...</td>\n",
       "      <td>...</td>\n",
       "      <td>...</td>\n",
       "      <td>...</td>\n",
       "      <td>...</td>\n",
       "      <td>...</td>\n",
       "    </tr>\n",
       "    <tr>\n",
       "      <th>775</th>\n",
       "      <td>150</td>\n",
       "      <td>3.410</td>\n",
       "      <td>0.19100</td>\n",
       "      <td>0.56000</td>\n",
       "      <td>0.49500</td>\n",
       "      <td>0.44300</td>\n",
       "      <td>0.21800</td>\n",
       "      <td>0.08900</td>\n",
       "    </tr>\n",
       "    <tr>\n",
       "      <th>776</th>\n",
       "      <td>151</td>\n",
       "      <td>3.380</td>\n",
       "      <td>0.28700</td>\n",
       "      <td>1.16300</td>\n",
       "      <td>0.46300</td>\n",
       "      <td>0.14300</td>\n",
       "      <td>0.10800</td>\n",
       "      <td>0.07700</td>\n",
       "    </tr>\n",
       "    <tr>\n",
       "      <th>777</th>\n",
       "      <td>152</td>\n",
       "      <td>3.334</td>\n",
       "      <td>0.35900</td>\n",
       "      <td>0.71100</td>\n",
       "      <td>0.61400</td>\n",
       "      <td>0.55500</td>\n",
       "      <td>0.21700</td>\n",
       "      <td>0.41100</td>\n",
       "    </tr>\n",
       "    <tr>\n",
       "      <th>778</th>\n",
       "      <td>153</td>\n",
       "      <td>3.231</td>\n",
       "      <td>0.47600</td>\n",
       "      <td>0.88500</td>\n",
       "      <td>0.49900</td>\n",
       "      <td>0.41700</td>\n",
       "      <td>0.27600</td>\n",
       "      <td>0.14700</td>\n",
       "    </tr>\n",
       "    <tr>\n",
       "      <th>781</th>\n",
       "      <td>156</td>\n",
       "      <td>2.853</td>\n",
       "      <td>0.30600</td>\n",
       "      <td>0.57500</td>\n",
       "      <td>0.29500</td>\n",
       "      <td>0.01000</td>\n",
       "      <td>0.20200</td>\n",
       "      <td>0.09100</td>\n",
       "    </tr>\n",
       "  </tbody>\n",
       "</table>\n",
       "<p>733 rows × 8 columns</p>\n",
       "</div>"
      ],
      "text/plain": [
       "     Happiness rank  Happiness Score  GDP per capita  Social support  \\\n",
       "0                 1            7.587         1.39651         1.34951   \n",
       "1                 2            7.561         1.30232         1.40223   \n",
       "3                 4            7.522         1.45900         1.33095   \n",
       "4                 5            7.427         1.32629         1.32261   \n",
       "5                 6            7.406         1.29025         1.31826   \n",
       "..              ...              ...             ...             ...   \n",
       "775             150            3.410         0.19100         0.56000   \n",
       "776             151            3.380         0.28700         1.16300   \n",
       "777             152            3.334         0.35900         0.71100   \n",
       "778             153            3.231         0.47600         0.88500   \n",
       "781             156            2.853         0.30600         0.57500   \n",
       "\n",
       "     Healthy life  Freedom  Generosity  Corruption  \n",
       "0         0.94143  0.66557     0.29678     0.41978  \n",
       "1         0.94784  0.62877     0.43630     0.14145  \n",
       "3         0.88521  0.66973     0.34699     0.36503  \n",
       "4         0.90563  0.63297     0.45811     0.32957  \n",
       "5         0.88911  0.64169     0.23351     0.41372  \n",
       "..            ...      ...         ...         ...  \n",
       "775       0.49500  0.44300     0.21800     0.08900  \n",
       "776       0.46300  0.14300     0.10800     0.07700  \n",
       "777       0.61400  0.55500     0.21700     0.41100  \n",
       "778       0.49900  0.41700     0.27600     0.14700  \n",
       "781       0.29500  0.01000     0.20200     0.09100  \n",
       "\n",
       "[733 rows x 8 columns]"
      ]
     },
     "execution_count": 66,
     "metadata": {},
     "output_type": "execute_result"
    }
   ],
   "source": [
    "#Removing the outliers using z-score method\n",
    "from scipy.stats import zscore\n",
    "z=np.abs(zscore(df))\n",
    "df_new=df[(z<3).all(axis=1)]\n",
    "df_new"
   ]
  },
  {
   "cell_type": "code",
   "execution_count": 67,
   "id": "ba671e7e",
   "metadata": {},
   "outputs": [],
   "source": [
    "#for clsasification we are creating a new variable that is weather the country falls with in top 50 hapiness rank or not"
   ]
  },
  {
   "cell_type": "code",
   "execution_count": 68,
   "id": "737ba326",
   "metadata": {},
   "outputs": [
    {
     "data": {
      "text/html": [
       "<div>\n",
       "<style scoped>\n",
       "    .dataframe tbody tr th:only-of-type {\n",
       "        vertical-align: middle;\n",
       "    }\n",
       "\n",
       "    .dataframe tbody tr th {\n",
       "        vertical-align: top;\n",
       "    }\n",
       "\n",
       "    .dataframe thead th {\n",
       "        text-align: right;\n",
       "    }\n",
       "</style>\n",
       "<table border=\"1\" class=\"dataframe\">\n",
       "  <thead>\n",
       "    <tr style=\"text-align: right;\">\n",
       "      <th></th>\n",
       "      <th>Happiness rank</th>\n",
       "      <th>Happiness Score</th>\n",
       "      <th>GDP per capita</th>\n",
       "      <th>Social support</th>\n",
       "      <th>Healthy life</th>\n",
       "      <th>Freedom</th>\n",
       "      <th>Generosity</th>\n",
       "      <th>Corruption</th>\n",
       "      <th>Target</th>\n",
       "    </tr>\n",
       "  </thead>\n",
       "  <tbody>\n",
       "    <tr>\n",
       "      <th>0</th>\n",
       "      <td>1</td>\n",
       "      <td>7.587</td>\n",
       "      <td>1.39651</td>\n",
       "      <td>1.34951</td>\n",
       "      <td>0.94143</td>\n",
       "      <td>0.66557</td>\n",
       "      <td>0.29678</td>\n",
       "      <td>0.41978</td>\n",
       "      <td>1</td>\n",
       "    </tr>\n",
       "    <tr>\n",
       "      <th>1</th>\n",
       "      <td>2</td>\n",
       "      <td>7.561</td>\n",
       "      <td>1.30232</td>\n",
       "      <td>1.40223</td>\n",
       "      <td>0.94784</td>\n",
       "      <td>0.62877</td>\n",
       "      <td>0.43630</td>\n",
       "      <td>0.14145</td>\n",
       "      <td>1</td>\n",
       "    </tr>\n",
       "    <tr>\n",
       "      <th>3</th>\n",
       "      <td>4</td>\n",
       "      <td>7.522</td>\n",
       "      <td>1.45900</td>\n",
       "      <td>1.33095</td>\n",
       "      <td>0.88521</td>\n",
       "      <td>0.66973</td>\n",
       "      <td>0.34699</td>\n",
       "      <td>0.36503</td>\n",
       "      <td>1</td>\n",
       "    </tr>\n",
       "    <tr>\n",
       "      <th>4</th>\n",
       "      <td>5</td>\n",
       "      <td>7.427</td>\n",
       "      <td>1.32629</td>\n",
       "      <td>1.32261</td>\n",
       "      <td>0.90563</td>\n",
       "      <td>0.63297</td>\n",
       "      <td>0.45811</td>\n",
       "      <td>0.32957</td>\n",
       "      <td>1</td>\n",
       "    </tr>\n",
       "    <tr>\n",
       "      <th>5</th>\n",
       "      <td>6</td>\n",
       "      <td>7.406</td>\n",
       "      <td>1.29025</td>\n",
       "      <td>1.31826</td>\n",
       "      <td>0.88911</td>\n",
       "      <td>0.64169</td>\n",
       "      <td>0.23351</td>\n",
       "      <td>0.41372</td>\n",
       "      <td>1</td>\n",
       "    </tr>\n",
       "    <tr>\n",
       "      <th>...</th>\n",
       "      <td>...</td>\n",
       "      <td>...</td>\n",
       "      <td>...</td>\n",
       "      <td>...</td>\n",
       "      <td>...</td>\n",
       "      <td>...</td>\n",
       "      <td>...</td>\n",
       "      <td>...</td>\n",
       "      <td>...</td>\n",
       "    </tr>\n",
       "    <tr>\n",
       "      <th>775</th>\n",
       "      <td>150</td>\n",
       "      <td>3.410</td>\n",
       "      <td>0.19100</td>\n",
       "      <td>0.56000</td>\n",
       "      <td>0.49500</td>\n",
       "      <td>0.44300</td>\n",
       "      <td>0.21800</td>\n",
       "      <td>0.08900</td>\n",
       "      <td>0</td>\n",
       "    </tr>\n",
       "    <tr>\n",
       "      <th>776</th>\n",
       "      <td>151</td>\n",
       "      <td>3.380</td>\n",
       "      <td>0.28700</td>\n",
       "      <td>1.16300</td>\n",
       "      <td>0.46300</td>\n",
       "      <td>0.14300</td>\n",
       "      <td>0.10800</td>\n",
       "      <td>0.07700</td>\n",
       "      <td>0</td>\n",
       "    </tr>\n",
       "    <tr>\n",
       "      <th>777</th>\n",
       "      <td>152</td>\n",
       "      <td>3.334</td>\n",
       "      <td>0.35900</td>\n",
       "      <td>0.71100</td>\n",
       "      <td>0.61400</td>\n",
       "      <td>0.55500</td>\n",
       "      <td>0.21700</td>\n",
       "      <td>0.41100</td>\n",
       "      <td>0</td>\n",
       "    </tr>\n",
       "    <tr>\n",
       "      <th>778</th>\n",
       "      <td>153</td>\n",
       "      <td>3.231</td>\n",
       "      <td>0.47600</td>\n",
       "      <td>0.88500</td>\n",
       "      <td>0.49900</td>\n",
       "      <td>0.41700</td>\n",
       "      <td>0.27600</td>\n",
       "      <td>0.14700</td>\n",
       "      <td>0</td>\n",
       "    </tr>\n",
       "    <tr>\n",
       "      <th>781</th>\n",
       "      <td>156</td>\n",
       "      <td>2.853</td>\n",
       "      <td>0.30600</td>\n",
       "      <td>0.57500</td>\n",
       "      <td>0.29500</td>\n",
       "      <td>0.01000</td>\n",
       "      <td>0.20200</td>\n",
       "      <td>0.09100</td>\n",
       "      <td>0</td>\n",
       "    </tr>\n",
       "  </tbody>\n",
       "</table>\n",
       "<p>733 rows × 9 columns</p>\n",
       "</div>"
      ],
      "text/plain": [
       "     Happiness rank  Happiness Score  GDP per capita  Social support  \\\n",
       "0                 1            7.587         1.39651         1.34951   \n",
       "1                 2            7.561         1.30232         1.40223   \n",
       "3                 4            7.522         1.45900         1.33095   \n",
       "4                 5            7.427         1.32629         1.32261   \n",
       "5                 6            7.406         1.29025         1.31826   \n",
       "..              ...              ...             ...             ...   \n",
       "775             150            3.410         0.19100         0.56000   \n",
       "776             151            3.380         0.28700         1.16300   \n",
       "777             152            3.334         0.35900         0.71100   \n",
       "778             153            3.231         0.47600         0.88500   \n",
       "781             156            2.853         0.30600         0.57500   \n",
       "\n",
       "     Healthy life  Freedom  Generosity  Corruption  Target  \n",
       "0         0.94143  0.66557     0.29678     0.41978       1  \n",
       "1         0.94784  0.62877     0.43630     0.14145       1  \n",
       "3         0.88521  0.66973     0.34699     0.36503       1  \n",
       "4         0.90563  0.63297     0.45811     0.32957       1  \n",
       "5         0.88911  0.64169     0.23351     0.41372       1  \n",
       "..            ...      ...         ...         ...     ...  \n",
       "775       0.49500  0.44300     0.21800     0.08900       0  \n",
       "776       0.46300  0.14300     0.10800     0.07700       0  \n",
       "777       0.61400  0.55500     0.21700     0.41100       0  \n",
       "778       0.49900  0.41700     0.27600     0.14700       0  \n",
       "781       0.29500  0.01000     0.20200     0.09100       0  \n",
       "\n",
       "[733 rows x 9 columns]"
      ]
     },
     "execution_count": 68,
     "metadata": {},
     "output_type": "execute_result"
    }
   ],
   "source": [
    "df_new[\"Target\"]=np.where(df_new[\"Happiness rank\"]<=50,1,0)\n",
    "df_new"
   ]
  },
  {
   "cell_type": "code",
   "execution_count": 69,
   "id": "deae61a5",
   "metadata": {},
   "outputs": [],
   "source": [
    "#we need to scale the feature for same intervals for logistic regression"
   ]
  },
  {
   "cell_type": "code",
   "execution_count": 78,
   "id": "f7bef9fb",
   "metadata": {},
   "outputs": [],
   "source": [
    "from sklearn.preprocessing import MinMaxScaler\n",
    "scaler = MinMaxScaler(feature_range=(0, 1))\n",
    "selected_variables = ['GDP per capita','Social support','Healthy life','Freedom','Generosity','Corruption']\n",
    "scaled_data = scaler.fit_transform(df_new[selected_variables])\n",
    "x_clasification= pd.DataFrame(scaled_data, columns=selected_variables)\n",
    "y_clasification=df_new[\"Target\"]"
   ]
  },
  {
   "cell_type": "markdown",
   "id": "06f1b3b5",
   "metadata": {},
   "source": [
    "so in the preprocessing \n",
    "1) we have removed the outlier\n",
    "2) we have scaled our feature to same scale to handle highly varying magnitudes or values or units. If feature scaling is not done, then a machine learning algorithm tends to weigh greater values, higher and consider smaller values as the lower values, regardless of the unit of the values\n",
    "3) we have created a target variable for clasification model where we will predict if contry will be on top 50 rank or not\n",
    "4) for regression we are taking happiness score as target variable "
   ]
  },
  {
   "cell_type": "markdown",
   "id": "e8ba43b1",
   "metadata": {},
   "source": [
    "# Model fitting:Classificaion"
   ]
  },
  {
   "cell_type": "code",
   "execution_count": 79,
   "id": "5b74a790",
   "metadata": {},
   "outputs": [],
   "source": [
    "#model\n",
    "from sklearn.svm import SVC\n",
    "from sklearn.ensemble import RandomForestClassifier\n",
    "from sklearn.linear_model import LogisticRegression\n",
    "from sklearn.neighbors import KNeighborsClassifier\n",
    "from sklearn.naive_bayes import GaussianNB\n",
    "from sklearn.tree import DecisionTreeClassifier\n",
    "from sklearn.ensemble import AdaBoostClassifier\n",
    "from sklearn.model_selection import train_test_split\n",
    "from sklearn.metrics import confusion_matrix, accuracy_score, classification_report\n",
    "#Optimizer\n",
    "from sklearn.model_selection import GridSearchCV,cross_val_score\n",
    "from sklearn.metrics import make_scorer\n",
    "from sklearn.model_selection import RepeatedStratifiedKFold\n",
    "import warnings\n",
    "warnings.filterwarnings(\"ignore\")"
   ]
  },
  {
   "cell_type": "code",
   "execution_count": 85,
   "id": "518ceebc",
   "metadata": {},
   "outputs": [],
   "source": [
    "#Define a function to try different train test folds\n",
    "def model_select(model):\n",
    "    max_score=0\n",
    "    max_state=0\n",
    "    for i in range(42,105):\n",
    "        x_train, x_test, y_train, y_test = train_test_split(x_clasification, y_clasification, test_size=0.33, random_state=i)\n",
    "        md=model()\n",
    "        md.fit(x_train,y_train)\n",
    "        predict=md.predict(x_test)\n",
    "        accuracyscore=accuracy_score(y_test,predict)\n",
    "        if accuracyscore>max_score:\n",
    "            max_score=accuracyscore\n",
    "            max_state=i\n",
    "    print(\"Max score is {} with random state {}\".format(max_score,max_state))"
   ]
  },
  {
   "cell_type": "code",
   "execution_count": 86,
   "id": "a1b6652a",
   "metadata": {},
   "outputs": [
    {
     "name": "stdout",
     "output_type": "stream",
     "text": [
      "Max score is 0.8884297520661157 with random state 76\n"
     ]
    }
   ],
   "source": [
    "model_select(LogisticRegression)"
   ]
  },
  {
   "cell_type": "code",
   "execution_count": 87,
   "id": "5f4100ac",
   "metadata": {},
   "outputs": [
    {
     "name": "stdout",
     "output_type": "stream",
     "text": [
      "Max score is 0.8966942148760331 with random state 80\n"
     ]
    }
   ],
   "source": [
    "model_select(SVC)"
   ]
  },
  {
   "cell_type": "code",
   "execution_count": 88,
   "id": "c94b1999",
   "metadata": {},
   "outputs": [
    {
     "name": "stdout",
     "output_type": "stream",
     "text": [
      "Max score is 0.8512396694214877 with random state 56\n"
     ]
    }
   ],
   "source": [
    "model_select(DecisionTreeClassifier)"
   ]
  },
  {
   "cell_type": "code",
   "execution_count": 89,
   "id": "2cc267d6",
   "metadata": {},
   "outputs": [
    {
     "name": "stdout",
     "output_type": "stream",
     "text": [
      "Max score is 0.8925619834710744 with random state 51\n"
     ]
    }
   ],
   "source": [
    "model_select(KNeighborsClassifier)"
   ]
  },
  {
   "cell_type": "code",
   "execution_count": 91,
   "id": "8c494686",
   "metadata": {},
   "outputs": [
    {
     "data": {
      "text/plain": [
       "0.9727011494252874"
      ]
     },
     "execution_count": 91,
     "metadata": {},
     "output_type": "execute_result"
    }
   ],
   "source": [
    "cross_val_score(KNeighborsClassifier(),x_train,y_train,cv=5).mean()"
   ]
  },
  {
   "cell_type": "code",
   "execution_count": 92,
   "id": "97d17d0e",
   "metadata": {},
   "outputs": [
    {
     "data": {
      "text/plain": [
       "0.9886363636363636"
      ]
     },
     "execution_count": 92,
     "metadata": {},
     "output_type": "execute_result"
    }
   ],
   "source": [
    "cross_val_score(SVC(),x_train,y_train,cv=5).mean()"
   ]
  },
  {
   "cell_type": "code",
   "execution_count": 95,
   "id": "d676460b",
   "metadata": {},
   "outputs": [
    {
     "name": "stdout",
     "output_type": "stream",
     "text": [
      "confusion matrix [[274   2]\n",
      " [  4  14]]\n",
      "\n",
      "\n",
      "classificationreport               precision    recall  f1-score   support\n",
      "\n",
      "           0       0.99      0.99      0.99       276\n",
      "           1       0.88      0.78      0.82        18\n",
      "\n",
      "    accuracy                           0.98       294\n",
      "   macro avg       0.93      0.89      0.91       294\n",
      "weighted avg       0.98      0.98      0.98       294\n",
      "\n",
      "accuracy score 0.9795918367346939\n"
     ]
    }
   ],
   "source": [
    "svc=SVC().fit(x_train, y_train)\n",
    "pred_rf = svc.predict(x_test)\n",
    "print(\"confusion matrix\",confusion_matrix(y_test,pred_rf ))\n",
    "print(\"\\n\")\n",
    "print(\"classificationreport\", classification_report(y_test,pred_rf))\n",
    "print(\"accuracy score\",accuracy_score(y_test,pred_rf))"
   ]
  },
  {
   "cell_type": "markdown",
   "id": "4d18bcb0",
   "metadata": {},
   "source": [
    "> In the clasisfication model we have created a target variable  where we will predict if contry will be on top 50 rank or not"
   ]
  },
  {
   "cell_type": "markdown",
   "id": "35fb6772",
   "metadata": {},
   "source": [
    "> Here we have tried few of the classification model like logistic regression, kNN, SVC and decission tree and its  binary type of classification. we have selected abouve models since they are all classification model and based on accuracy we will chose best model"
   ]
  },
  {
   "cell_type": "markdown",
   "id": "cdee3328",
   "metadata": {},
   "source": [
    ">1)we have used accuracy to check the performance of the model and based on the accuracy SVC is performing well \n",
    ">2) rom the given confusion matrix [[274 2] [4 14]], we can see that:\n",
    "\n",
    "There are a total of 294 instances considered.\n",
    "Out of the 294 instances, the model predicted 276 as positive (274 true positives and 2 false positives) and 18 as negative (4 false negatives and 14 true negatives).\n",
    "The true positive rate (TPR), also known as sensitivity or recall, is 14/(14+4) = 0.78. This indicates that the model correctly identified 78% of the positive instances.\n",
    "The true negative rate (TNR), also known as specificity, is 274/(274+2) = 0.99. This indicates that the model correctly identified 99% of the negative instances.\n",
    "The precision of the model is 14/(14+2) = 0.88. This indicates that out of all instances predicted as positive, 88% were actually positive.\n",
    "The F1 score, which is the harmonic mean of precision and recall, is 2*(precision*recall)/(precision+recall) = 0.83. This indicates the overall performance of the model in terms of balancing precision and recall.\n",
    "In summary, this confusion matrix indicates that the model has a high true negative rate, meaning that it is good at identifying negative instances. However, it has a lower true positive rate, indicating that it misses some positive instances. The model has a reasonably high precision, indicating that when it does predict a positive instance, it is usually correct. The F1 score suggests that overall, the model performs decently in terms of balancing precision and recall."
   ]
  },
  {
   "cell_type": "markdown",
   "id": "b6a22333",
   "metadata": {},
   "source": [
    "# Model fitting:Regression"
   ]
  },
  {
   "cell_type": "code",
   "execution_count": 96,
   "id": "799e33ab",
   "metadata": {},
   "outputs": [],
   "source": [
    "#Scaling the variables for regression models"
   ]
  },
  {
   "cell_type": "code",
   "execution_count": 97,
   "id": "1053a0df",
   "metadata": {},
   "outputs": [],
   "source": [
    "from sklearn.preprocessing import MinMaxScaler\n",
    "scaler = MinMaxScaler(feature_range=(0, 1))\n",
    "selected_variables = ['GDP per capita','Social support','Healthy life','Freedom','Generosity','Corruption']\n",
    "scaled_data = scaler.fit_transform(df_new[selected_variables])\n",
    "x_regression= pd.DataFrame(scaled_data, columns=selected_variables)\n",
    "y_regression=df_new[\"Happiness Score\"]"
   ]
  },
  {
   "cell_type": "code",
   "execution_count": 117,
   "id": "c1df2dc2",
   "metadata": {},
   "outputs": [],
   "source": [
    "from sklearn.linear_model import LinearRegression,Lasso,Ridge,ElasticNet\n",
    "from sklearn.svm import SVR\n",
    "from sklearn.tree import DecisionTreeRegressor\n",
    "from sklearn.neighbors import KNeighborsRegressor\n",
    "\n",
    "#Importing Boosting model:\n",
    "from sklearn.ensemble import RandomForestRegressor\n",
    "from sklearn.ensemble import AdaBoostRegressor\n",
    "from sklearn.ensemble import GradientBoostingRegressor\n",
    "\n",
    "#Importing error metrices:\n",
    "from sklearn.metrics import mean_absolute_error,mean_squared_error,r2_score\n",
    "#Optimizer\n",
    "from sklearn.model_selection import GridSearchCV,cross_val_score\n",
    "from sklearn.metrics import make_scorer\n",
    "from sklearn.model_selection import train_test_split\n",
    "import warnings\n",
    "warnings.filterwarnings(\"ignore\")"
   ]
  },
  {
   "cell_type": "code",
   "execution_count": 118,
   "id": "8c9860c5",
   "metadata": {},
   "outputs": [],
   "source": [
    "#Define a function to try different train test folds\n",
    "def model_select(model):\n",
    "    max_score=0\n",
    "    max_state=0\n",
    "    for i in range(0,105):\n",
    "        x_train, x_test, y_train, y_test = train_test_split(x_regression, y_regression, test_size=0.20, random_state=i)\n",
    "        md=model()\n",
    "        md.fit(x_train,y_train)\n",
    "        predict=md.predict(x_test)\n",
    "        r2score=r2_score(y_test,predict)\n",
    "        if r2score>max_score:\n",
    "            max_score=r2score\n",
    "            max_state=i\n",
    "    print(\"Max score is {} with random state {}\".format(max_score,max_state))"
   ]
  },
  {
   "cell_type": "code",
   "execution_count": 119,
   "id": "e08afe1b",
   "metadata": {},
   "outputs": [
    {
     "name": "stdout",
     "output_type": "stream",
     "text": [
      "Max score is 0.8403515252953263 with random state 56\n"
     ]
    }
   ],
   "source": [
    "model_select(LinearRegression)"
   ]
  },
  {
   "cell_type": "code",
   "execution_count": 121,
   "id": "9d0cb6f2",
   "metadata": {},
   "outputs": [
    {
     "name": "stdout",
     "output_type": "stream",
     "text": [
      "Max score is 0.8390849724651863 with random state 56\n"
     ]
    }
   ],
   "source": [
    "model_select(Ridge)"
   ]
  },
  {
   "cell_type": "code",
   "execution_count": 122,
   "id": "874d98f4",
   "metadata": {},
   "outputs": [
    {
     "name": "stdout",
     "output_type": "stream",
     "text": [
      "Max score is 0.8441412400642035 with random state 76\n"
     ]
    }
   ],
   "source": [
    "model_select(KNeighborsRegressor)"
   ]
  },
  {
   "cell_type": "code",
   "execution_count": 130,
   "id": "d0f722a8",
   "metadata": {},
   "outputs": [
    {
     "name": "stdout",
     "output_type": "stream",
     "text": [
      "R2 score is 0.7230434782608696\n",
      "Mean absolute error is 0.030612244897959183\n",
      "Mean squared error is 0.01591836734693878\n"
     ]
    }
   ],
   "source": [
    "KNN=KNeighborsRegressor()\n",
    "KNN.fit(x_train,y_train)\n",
    "predict=KNN.predict(x_test)\n",
    "print(\"R2 score is \"+str(r2_score(y_test,predict)))\n",
    "print(\"Mean absolute error is \"+str(mean_absolute_error(y_test,predict)))\n",
    "print(\"Mean squared error is \"+str(mean_squared_error(y_test,predict)))"
   ]
  },
  {
   "cell_type": "code",
   "execution_count": 131,
   "id": "d6275632",
   "metadata": {},
   "outputs": [
    {
     "data": {
      "text/plain": [
       "Text(0.5, 1.0, 'Predicted y vs y test')"
      ]
     },
     "execution_count": 131,
     "metadata": {},
     "output_type": "execute_result"
    },
    {
     "data": {
      "image/png": "[encoded data removed]",
      "text/plain": [
       "<Figure size 432x288 with 1 Axes>"
      ]
     },
     "metadata": {
      "needs_background": "light"
     },
     "output_type": "display_data"
    }
   ],
   "source": [
    "# Plotting the actual y and predicted y\n",
    "sns.regplot(x=y_test,y=predict)\n",
    "plt.xlabel('Y Test')\n",
    "plt.ylabel('Predicted Y')\n",
    "plt.title(\"Predicted y vs y test\")"
   ]
  },
  {
   "cell_type": "markdown",
   "id": "c2e2e47d",
   "metadata": {},
   "source": [
    ">Preprocessing performed here is same as classification but the target variable is happiness socre which is continuoues variable \n",
    ">Here we have tried few of the regression model like linear regression, kNN and regularization technique like ridge and based on R2 score we have chosed the best model"
   ]
  },
  {
   "cell_type": "raw",
   "id": "673365b3",
   "metadata": {},
   "source": [
    "The R2 score is a statistical measure that represents the proportion of variance in the target variable (i.e., the variable you are trying to predict) that can be explained by the independent variables in the model. It ranges from 0 to 1, with higher values indicating better performance. An R2 score of 0.723 suggests that your model explains 72.3% of the variance in the target variable, which is a decent level of performance.\n",
    "\n",
    "The mean absolute error (MAE) is a metric that measures the average absolute difference between the predicted values and the true values of the target variable. It gives an idea of how far off the predictions are on average. A lower MAE value indicates better performance. In your case, the MAE is 0.0306, which means that, on average, your model's predictions are off by about 0.03 units from the true values.\n",
    "\n",
    "The mean squared error (MSE) is another metric that measures the average squared difference between the predicted values and the true values of the target variable. It gives more weight to larger errors than smaller errors, and a lower MSE value indicates better performance. In your case, the MSE is 0.0159, which means that, on average, your model's predictions are off by about 0.04 squared units from the true values.\n",
    "\n",
    "Overall, an R2 score of 0.723, MAE of 0.0306, and MSE of 0.0159 suggest that your model is performing reasonably well but there is some room for improvement. we consider trying different algorithms, tuning hyperparameters, or incorporating additional features to improve the performance of your model."
   ]
  },
  {
   "cell_type": "markdown",
   "id": "d4ef41f4",
   "metadata": {},
   "source": [
    "# Ensembling"
   ]
  },
  {
   "cell_type": "code",
   "execution_count": 132,
   "id": "ee534c79",
   "metadata": {},
   "outputs": [
    {
     "name": "stdout",
     "output_type": "stream",
     "text": [
      "Max score is 0.868124875021866 with random state 56\n"
     ]
    }
   ],
   "source": [
    "model_select(RandomForestRegressor)"
   ]
  },
  {
   "cell_type": "code",
   "execution_count": 133,
   "id": "592a85cf",
   "metadata": {},
   "outputs": [
    {
     "name": "stdout",
     "output_type": "stream",
     "text": [
      "Max score is 0.8486973824880972 with random state 91\n"
     ]
    }
   ],
   "source": [
    "model_select(GradientBoostingRegressor)"
   ]
  },
  {
   "cell_type": "code",
   "execution_count": 134,
   "id": "d0f7e7ad",
   "metadata": {},
   "outputs": [
    {
     "name": "stdout",
     "output_type": "stream",
     "text": [
      "Max score is 0.8019181743156023 with random state 34\n"
     ]
    }
   ],
   "source": [
    "model_select(AdaBoostRegressor)"
   ]
  },
  {
   "cell_type": "code",
   "execution_count": 135,
   "id": "91b7d938",
   "metadata": {},
   "outputs": [
    {
     "name": "stdout",
     "output_type": "stream",
     "text": [
      "Our optimized Random Forest model is:\n"
     ]
    },
    {
     "data": {
      "text/plain": [
       "RandomForestRegressor(max_depth=2, min_samples_leaf=8, n_estimators=5)"
      ]
     },
     "execution_count": 135,
     "metadata": {},
     "output_type": "execute_result"
    }
   ],
   "source": [
    "#Hyperparameter tuning\n",
    "rf= RandomForestRegressor()\n",
    "\n",
    "parameters = {\"n_estimators\": [4, 5, 6, 7, 8, 9, 10, 15], \n",
    "              \n",
    "              \"max_features\": [\"auto\", \"sqrt\", \"log2\"], \n",
    "              \"max_depth\": [2, 3, 5, 10], \n",
    "              \"min_samples_split\": [2, 3, 5, 10],\n",
    "              \"min_samples_leaf\": [1, 5, 8, 10]\n",
    "             }\n",
    "\n",
    "grid_cv = GridSearchCV(rf, parameters, scoring = make_scorer(r2_score))\n",
    "grid_cv = grid_cv.fit(x_train,y_train)\n",
    "\n",
    "print(\"Our optimized Random Forest model is:\")\n",
    "grid_cv.best_estimator_"
   ]
  },
  {
   "cell_type": "code",
   "execution_count": 136,
   "id": "8dda38cf",
   "metadata": {},
   "outputs": [
    {
     "name": "stdout",
     "output_type": "stream",
     "text": [
      "0.9662453252746738\n"
     ]
    }
   ],
   "source": [
    "rf = grid_cv.best_estimator_\n",
    "\n",
    "rf=grid_cv.best_estimator_\n",
    "rf.fit(x_train,y_train)\n",
    "print(rf.score(x_train, y_train))"
   ]
  },
  {
   "cell_type": "code",
   "execution_count": 137,
   "id": "e77ae6ab",
   "metadata": {},
   "outputs": [
    {
     "name": "stdout",
     "output_type": "stream",
     "text": [
      "R2 score is 0.9404170871354446\n",
      "Mean absolute error is 0.004058956916099772\n",
      "Mean squared error is 0.00342459057697153\n"
     ]
    }
   ],
   "source": [
    "predict2=rf.predict(x_test)\n",
    "print(\"R2 score is \"+str(r2_score(y_test,predict2)))\n",
    "print(\"Mean absolute error is \"+str(mean_absolute_error(y_test,predict2)))\n",
    "print(\"Mean squared error is \"+str(mean_squared_error(y_test,predict2)))"
   ]
  },
  {
   "cell_type": "markdown",
   "id": "826de62a",
   "metadata": {},
   "source": [
    ">for ensembling we have considerd the same preprocessing and same target variableas  regression model "
   ]
  },
  {
   "cell_type": "raw",
   "id": "bb8d0dae",
   "metadata": {},
   "source": [
    "Here we analyze the performance of three different regression models RandomForestRegressor, GradientBoostingRegressor, and AdaBoostRegressor , based on the maximum score achieved by each model with a different random state.\n",
    "\n",
    "The maximum score achieved by each model and its corresponding random state are:\n",
    "\n",
    "RandomForestRegressor: 0.868124875021866 with random state 56\n",
    "GradientBoostingRegressor: 0.8486973824880972 with random state 91\n",
    "AdaBoostRegressor: 0.8019181743156023 with random state 34\n",
    "Based on these results, it seems that the RandomForestRegressor model performed the best, with a maximum score of 0.8681. The GradientBoostingRegressor model had the second-best performance, with a maximum score of 0.8487. Finally, the AdaBoostRegressor model had the lowest performance, with a maximum score of 0.8019."
   ]
  },
  {
   "cell_type": "raw",
   "id": "cd4132d1",
   "metadata": {},
   "source": [
    "R2 score: 0.9404\n",
    "Mean absolute error: 0.0041\n",
    "Mean squared error: 0.0034\n",
    "The R2 score, also known as the coefficient of determination, is a measure of how well the model fits the data. It ranges from 0 to 1, with higher values indicating a better fit. In this case, an R2 score of 0.9404 suggests that the model explains 94.04% of the variance in the target variable.\n",
    "\n",
    "The mean absolute error (MAE) is a measure of the average absolute difference between the predicted and actual values. It's a popular metric because it's easy to interpret and has the same unit as the target variable. In this case, the MAE is 0.0041, which means that on average, the model's predictions are off by about 0.0041 units.\n",
    "\n",
    "The mean squared error (MSE) is another popular metric that measures the average squared difference between the predicted and actual values. It's similar to the MAE, but it emphasizes larger errors since the differences are squared. In this case, the MSE is 0.0034, which means that the model's predictions are generally more accurate than the MAE would suggest.\n",
    "\n",
    "Overall, these evaluation metrics suggest that the optimized RandomForestRegressor model is performing well on the given dataset."
   ]
  },
  {
   "cell_type": "code",
   "execution_count": null,
   "id": "8bff581e",
   "metadata": {},
   "outputs": [],
   "source": []
  },
  {
   "cell_type": "code",
   "execution_count": null,
   "id": "df5cb70d",
   "metadata": {},
   "outputs": [],
   "source": []
  },
  {
   "cell_type": "code",
   "execution_count": null,
   "id": "416c759e",
   "metadata": {},
   "outputs": [],
   "source": []
  }
 ],
 "metadata": {
  "kernelspec": {
   "display_name": "Python 3",
   "language": "python",
   "name": "python3"
  },
  "language_info": {
   "codemirror_mode": {
    "name": "ipython",
    "version": 3
   },
   "file_extension": ".py",
   "mimetype": "text/x-python",
   "name": "python",
   "nbconvert_exporter": "python",
   "pygments_lexer": "ipython3",
   "version": "3.8.8"
  }
 },
 "nbformat": 4,
 "nbformat_minor": 5
}
