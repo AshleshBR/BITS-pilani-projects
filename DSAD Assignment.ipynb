{
 "cells": [
  {
   "cell_type": "code",
   "execution_count": 22,
   "id": "df630f69",
   "metadata": {},
   "outputs": [
    {
     "data": {
      "text/plain": [
       "'[0,5]\\n[1,6]\\n[7,3]\\n[9,2]\\n[3,5]'"
      ]
     },
     "execution_count": 22,
     "metadata": {},
     "output_type": "execute_result"
    }
   ],
   "source": [
    "\n",
    "ARR=[[0, 5],\n",
    "[1, 6],\n",
    "[7, 3],\n",
    "[9, 2],\n",
    "[3, 5]]\n",
    "ARR\n",
    "file=open(\"inputPS10.txt\")\n",
    "content=file.read()\n",
    "content"
   ]
  },
  {
   "cell_type": "code",
   "execution_count": null,
   "id": "917785a9",
   "metadata": {},
   "outputs": [],
   "source": []
  },
  {
   "cell_type": "code",
   "execution_count": 5,
   "id": "759019a3",
   "metadata": {},
   "outputs": [],
   "source": [
    "def Countersrequiered( sp, ct,n ):\n",
    "    counters_req=1\n",
    "    min_counters=1\n",
    "    \n",
    "    for i in range(n):\n",
    "        counters_req=1\n",
    "        for j in range(i+1,n):\n",
    "            if (max(sp[i],sp[j])<=min((sp[i]+ct[i]),(sp[j]+ct[j]))):\n",
    "                counters_req+=1\n",
    "        min_counters=max(counters_req,min_counters)\n",
    "        return print(\"Minimun number of counter required:\",min_counters)\n",
    "    "
   ]
  },
  {
   "cell_type": "code",
   "execution_count": 6,
   "id": "1bccdde0",
   "metadata": {},
   "outputs": [
    {
     "name": "stdout",
     "output_type": "stream",
     "text": [
      "Minimun number of counter required: 3\n"
     ]
    }
   ],
   "source": [
    "def main():\n",
    "    sp=[0,1,7,9,3]\n",
    "    ct=[5,6,3,2,5]\n",
    "    \n",
    "    n= len(sp)\n",
    "    Countersrequiered( sp, ct,n ) \n",
    "if __name__ == '__main__':\n",
    "    main()"
   ]
  },
  {
   "cell_type": "code",
   "execution_count": null,
   "id": "74eb02b7",
   "metadata": {},
   "outputs": [],
   "source": [
    "\n"
   ]
  },
  {
   "cell_type": "code",
   "execution_count": null,
   "id": "9ef6ca92",
   "metadata": {},
   "outputs": [],
   "source": [
    "\n"
   ]
  }
 ],
 "metadata": {
  "kernelspec": {
   "display_name": "Python 3",
   "language": "python",
   "name": "python3"
  },
  "language_info": {
   "codemirror_mode": {
    "name": "ipython",
    "version": 3
   },
   "file_extension": ".py",
   "mimetype": "text/x-python",
   "name": "python",
   "nbconvert_exporter": "python",
   "pygments_lexer": "ipython3",
   "version": "3.8.8"
  }
 },
 "nbformat": 4,
 "nbformat_minor": 5
}
