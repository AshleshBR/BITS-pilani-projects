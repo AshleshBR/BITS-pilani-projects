{
 "cells": [
  {
   "cell_type": "raw",
   "id": "ec14aee2",
   "metadata": {},
   "source": [
    "#1) Write a code to generate five random vectors a1, a2, a3, a4, a5 ∈R5\n",
    "#and verify that these set of vectors are linearly independent."
   ]
  },
  {
   "cell_type": "code",
   "execution_count": 18,
   "id": "77bf2917",
   "metadata": {},
   "outputs": [
    {
     "name": "stdout",
     "output_type": "stream",
     "text": [
      "a1: [0.18618047 0.05536574 0.75022814 0.22910135 0.03636089]\n",
      "a2: [0.69339279 0.65877889 0.1746191  0.17922132 0.89183015]\n",
      "a3: [0.87753514 0.82204964 0.18684105 0.94808251 0.39267524]\n",
      "a4: [0.41281925 0.79685668 0.02631613 0.16998769 0.98228162]\n",
      "a5: [0.08885851 0.75382554 0.75899982 0.58788158 0.50905655]\n",
      "\n",
      "\n",
      "Row Count: 5\n",
      "Matrix Rank: 5\n",
      "Random vectors are Lineraly Independent\n"
     ]
    }
   ],
   "source": [
    "import numpy as np\n",
    "from numpy import linalg\n",
    "\n",
    "\n",
    "a1 = np.random.rand(5) \n",
    "print('a1:', a1)\n",
    "a2 = np.random.rand(5)\n",
    "print('a2:', a2)\n",
    "a3 = np.random.rand(5) \n",
    "print('a3:', a3)\n",
    "a4 = np.random.rand(5)\n",
    "print('a4:', a4)\n",
    "a5 = np.random.rand(5) \n",
    "print('a5:', a5) \n",
    "print(\"\\n\")\n",
    "\n",
    "matrx = np.array ([a1,a2,a3,a4,a5])\n",
    "\n",
    "no_of_rows = matrx.shape[0] \n",
    "no_of_columns = matrx.shape[1]\n",
    " \n",
    "\n",
    "def vecotrs_dependency(matrix,row_nb): \n",
    "    rank_of_matrix = np.linalg.matrix_rank(matrix)\n",
    "\n",
    "    print('Row Count:',row_nb) \n",
    "    print('Matrix Rank:',rank_of_matrix)\n",
    "    if rank_of_matrix < row_nb:\n",
    "        print('Given vectors are Lineraly Dependent')\n",
    "        print('No of independent vector:', rank_of_matrix)\n",
    "        print('No of Dependent vector:', row_nb - rank_of_matrix)\n",
    "    else:\n",
    "        print('Random vectors are Lineraly Independent')\n",
    "\n",
    "                   \n",
    "vecotrs_dependency(matrx,no_of_rows)\n"
   ]
  },
  {
   "cell_type": "raw",
   "id": "4d828be7",
   "metadata": {},
   "source": [
    "#2) Write a function that applies Gram-Schmidt Algorithm on the\n",
    "#set of vectors a1, a2, a3, a4, a5. Let the output of Gram Schmidt\n",
    "#algorithm be the vectors q1, q2, q3, q4, q5."
   ]
  },
  {
   "cell_type": "code",
   "execution_count": 19,
   "id": "af9cb451",
   "metadata": {},
   "outputs": [
    {
     "name": "stdout",
     "output_type": "stream",
     "text": [
      "a1: [0.18618047 0.05536574 0.75022814 0.22910135 0.03636089]\n",
      "a2: [0.69339279 0.65877889 0.1746191  0.17922132 0.89183015]\n",
      "a3: [0.87753514 0.82204964 0.18684105 0.94808251 0.39267524]\n",
      "a4: [0.41281925 0.79685668 0.02631613 0.16998769 0.98228162]\n",
      "a5: [0.08885851 0.75382554 0.75899982 0.58788158 0.50905655]\n",
      "\n",
      "\n",
      "Matrix of a1,a2,a3,a4,a5 vectors stored as the columns for Gram-Schmidt\n",
      "\n",
      "\n",
      "[[0.18618047 0.69339279 0.87753514 0.41281925 0.08885851]\n",
      " [0.05536574 0.65877889 0.82204964 0.79685668 0.75382554]\n",
      " [0.75022814 0.1746191  0.18684105 0.02631613 0.75899982]\n",
      " [0.22910135 0.17922132 0.94808251 0.16998769 0.58788158]\n",
      " [0.03636089 0.89183015 0.39267524 0.98228162 0.50905655]]\n",
      "\n",
      "\n",
      "Gram-Schmidt Algorithm solved Matrix\n",
      "\n",
      "\n",
      "[[0.18618047 0.69339279 0.87753514 0.41281925 0.08885851]\n",
      " [0.05536574 0.65877889 0.82204964 0.79685668 0.75382554]\n",
      " [0.75022814 0.1746191  0.18684105 0.02631613 0.75899982]\n",
      " [0.22910135 0.17922132 0.94808251 0.16998769 0.58788158]\n",
      " [0.03636089 0.89183015 0.39267524 0.98228162 0.50905655]]\n",
      "\n",
      "\n",
      "Vectors q1, q2, q3, q4, q5 from Gram-Schmidt Algorithm \n",
      "\n",
      "\n",
      "q1: [0.18618047 0.05536574 0.75022814 0.22910135 0.03636089]\n",
      "q2: [0.69339279 0.65877889 0.1746191  0.17922132 0.89183015]\n",
      "q3: [0.87753514 0.82204964 0.18684105 0.94808251 0.39267524]\n",
      "q4: [0.41281925 0.79685668 0.02631613 0.16998769 0.98228162]\n",
      "q5: [0.08885851 0.75382554 0.75899982 0.58788158 0.50905655]\n"
     ]
    }
   ],
   "source": [
    "\n",
    "def gram_schmdt(mtrx):\n",
    "\n",
    "    n = mtrx.shape[1] \n",
    "    for i in range(n):\n",
    "        for j in range(i):\n",
    "            mtrx[:, i] -= (np.dot(mtrx[:, j], mtrx[:, i]) * mtrx[:, j])\n",
    "            mtrx[:, i] = (mtrx[:, i] / np.linalg.norm(mtrx[:, i])) \n",
    "        return mtrx\n",
    "\n",
    "print('a1:', a1)\n",
    "print('a2:', a2)\n",
    "print('a3:', a3)\n",
    "print('a4:', a4)\n",
    "print('a5:', a5) \n",
    "print(\"\\n\")\n",
    "\n",
    "o_vec = np.stack([a1,a2,a3,a4,a5], axis = -1)\n",
    "\n",
    "print('Matrix of a1,a2,a3,a4,a5 vectors stored as the columns for Gram-Schmidt')\n",
    "print(\"\\n\")\n",
    "\n",
    "print(o_vec) \n",
    "print(\"\\n\")\n",
    "\n",
    "print('Gram-Schmidt Algorithm solved Matrix') \n",
    "print(\"\\n\")\n",
    "print(gram_schmdt(o_vec)) \n",
    "print(\"\\n\")\n",
    "def vec_list (matrix_name, index_no):\n",
    "    return matrix_name[:,index_no]\n",
    "\n",
    "\n",
    "print('Vectors q1, q2, q3, q4, q5 from Gram-Schmidt Algorithm ')\n",
    "print('\\n')\n",
    "q1 = vec_list(o_vec,0)\n",
    "q2 = vec_list(o_vec,1) \n",
    "q3 = vec_list(o_vec,2) \n",
    "q4 = vec_list(o_vec,3) \n",
    "q5 = vec_list(o_vec,4)\n",
    "\n",
    "print('q1:', vec_list(o_vec,0)) \n",
    "print('q2:', vec_list(o_vec,1)) \n",
    "print('q3:', vec_list(o_vec,2))\n",
    "print('q4:', vec_list(o_vec,3)) \n",
    "print('q5:', vec_list(o_vec,4))\n"
   ]
  },
  {
   "cell_type": "raw",
   "id": "0d624d53",
   "metadata": {},
   "source": [
    "#3.Write a code to create a matrix Q ∈R5×5 with q1, q2, q3, q4, q5\n",
    "#as the five columns. Then create a matrix B = Q⊤Q."
   ]
  },
  {
   "cell_type": "code",
   "execution_count": 26,
   "id": "2b517abf",
   "metadata": {},
   "outputs": [
    {
     "name": "stdout",
     "output_type": "stream",
     "text": [
      "q1: [0.18618047 0.05536574 0.75022814 0.22910135 0.03636089]\n",
      "q2: [0.69339279 0.65877889 0.1746191  0.17922132 0.89183015]\n",
      "q3: [0.87753514 0.82204964 0.18684105 0.94808251 0.39267524]\n",
      "q4: [0.41281925 0.79685668 0.02631613 0.16998769 0.98228162]\n",
      "q5: [0.08885851 0.75382554 0.75899982 0.58788158 0.50905655]\n",
      "\n",
      "\n",
      "Matrix B = QTQ\n",
      "\n",
      "\n",
      "[[0.65438033 0.37006172 0.58055171 0.21538158 0.78089706]\n",
      " [0.37006172 1.77275632 1.70276772 1.72228734 1.25010696]\n",
      " [0.58055171 1.70276772 2.53379739 1.5691161  1.59672494]\n",
      " [0.21538158 1.72228734 1.5691161  1.79986585 1.25731689]\n",
      " [0.78089706 1.25010696 1.59672494 1.25731689 1.75697282]]\n"
     ]
    }
   ],
   "source": [
    "print('q1:', q1)\n",
    "print('q2:', q2)\n",
    "print('q3:', q3)\n",
    "print('q4:', q4)\n",
    "print('q5:', q5) \n",
    "print(\"\\n\")\n",
    "\n",
    "Q = np.stack([q1,q2,q3,q4,q5], axis = -1)\n",
    "print('Matrix B = QTQ') \n",
    "print('\\n')\n",
    "B = np.dot(np.transpose(Q), Q) \n",
    "print(B)"
   ]
  },
  {
   "cell_type": "markdown",
   "id": "8cfdfe9b",
   "metadata": {},
   "source": [
    "#4. write a code to calculate the value of |B-I5|\n",
    "#deliverable code and display of value generated"
   ]
  },
  {
   "cell_type": "code",
   "execution_count": 27,
   "id": "1db5523b",
   "metadata": {},
   "outputs": [
    {
     "name": "stdout",
     "output_type": "stream",
     "text": [
      "value of lB - I5lF:  5.880833701542822\n"
     ]
    }
   ],
   "source": [
    "M = np.linalg.norm(B - np.identity(5), 'fro')\n",
    "print ('value of lB - I5lF: ', M)"
   ]
  },
  {
   "cell_type": "code",
   "execution_count": null,
   "id": "c97d0071",
   "metadata": {},
   "outputs": [],
   "source": []
  }
 ],
 "metadata": {
  "kernelspec": {
   "display_name": "Python 3",
   "language": "python",
   "name": "python3"
  },
  "language_info": {
   "codemirror_mode": {
    "name": "ipython",
    "version": 3
   },
   "file_extension": ".py",
   "mimetype": "text/x-python",
   "name": "python",
   "nbconvert_exporter": "python",
   "pygments_lexer": "ipython3",
   "version": "3.8.8"
  }
 },
 "nbformat": 4,
 "nbformat_minor": 5
}
