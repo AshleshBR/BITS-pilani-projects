{
 "cells": [
  {
   "cell_type": "code",
   "execution_count": 1,
   "id": "b92aeb2b",
   "metadata": {},
   "outputs": [
    {
     "name": "stdout",
     "output_type": "stream",
     "text": [
      "The input matrix A\n",
      " [[1 6 9 2]\n",
      " [5 8 8 8]\n",
      " [3 8 9 9]\n",
      " [5 0 9 2]]\n",
      "\n",
      "The input matrix B\n",
      " [[0]\n",
      " [9]\n",
      " [7]\n",
      " [6]]\n",
      "\n",
      "Matrix not is diagonally dominant\n",
      "x:\n",
      "array([[2.09506849e+125, 1.15089133e+035, 8.92070840e+029,\n",
      "        1.68925492e+095],\n",
      "       [2.34107289e+125, 1.28602979e+035, 9.96818419e+029,\n",
      "        1.88760841e+095],\n",
      "       [2.24547866e+125, 1.23351668e+035, 9.56114821e+029,\n",
      "        1.81053072e+095],\n",
      "       [1.70661514e+125, 9.37500892e+034, 7.26669134e+029,\n",
      "        1.37604476e+095]])\n"
     ]
    },
    {
     "data": {
      "image/png": "[encoded data removed]",
      "text/plain": [
       "<Figure size 432x288 with 1 Axes>"
      ]
     },
     "metadata": {
      "needs_background": "light"
     },
     "output_type": "display_data"
    }
   ],
   "source": [
    "# Q1.5 - Write a function that perform  Gauss Jacobi iterations. Generate a random 4 × 4 matrix A and generate a random b ∈ R^4\n",
    "# Report the results of passing this matrix to function written in (i). Solve linear system Ax = b by using function in (ii). \n",
    "# Generate a plot of ∥xk+1 − xk∥2 for first 100 iterations. Does it converge ? or Is it diverging? Specify your observation. \n",
    "# Take a screenshot of plot and paste it in the assignment document.\n",
    "\n",
    "\n",
    "\n",
    "#import numpy\n",
    "import numpy as np\n",
    "from numpy import array,inf\n",
    "from numpy.linalg import norm \n",
    "from scipy.linalg import solve\n",
    "\n",
    "np.seterr(divide='ignore', invalid='ignore')\n",
    "#generTING RANDOM MATRIX\n",
    "A = np.random.randint(10, size=(4, 4)) \n",
    "# Size of the Matrix is given in \n",
    "print(\"The input matrix A\\n\",(A)) \n",
    "\n",
    "#AX = B (RHS)\n",
    "B = np.random.randint(10, size=(4, 1)) \n",
    "print(\"\\nThe input matrix B\\n\",(B)) \n",
    "\n",
    "\n",
    "# Cheking diaglonally dominant\n",
    "def DiagonallyDominant(x):\n",
    "    abs_x = np.abs(x)\n",
    "    if np.all( 2*np.diag(abs_x) >= np.sum(abs_x, axis=1)):\n",
    "        print ('\\nMatrix is diagonally dominant')\n",
    "    else:\n",
    "        print ('\\nMatrix not is diagonally dominant')\n",
    "    return\n",
    "DiagonallyDominant(A)\n",
    "\n",
    "\n",
    "from pprint import pprint\n",
    "from numpy import array, zeros, diag, diagflat, dot\n",
    "\n",
    "def jacobi(a,b,n,x=None):                                                                                                                                                         \n",
    "    if x is None:\n",
    "        x = zeros(len(A[0]))\n",
    "\n",
    "    # Create a vector of the diagonal elements of A                                                                                                                                                                                                                                                                                                                \n",
    "    Diagnol = diag(A)\n",
    "    R = A - diagflat(Diagnol)\n",
    "\n",
    "    # Iterate for N times                                                                                                                                                                          \n",
    "    for i in range(N):\n",
    "        x = x.astype('float64')\n",
    "        x = (b - dot(R,x)) / Diagnol\n",
    "    return x\n",
    "\n",
    "N = 100\n",
    "# initial solution depending on n(here n=3)\n",
    "x = np.ones((4, 1), dtype = int)\n",
    "\n",
    "sol = jacobi(A,B,N,x)\n",
    "\n",
    "print (\"x:\")\n",
    "pprint(sol)\n",
    "\n",
    "import matplotlib.pyplot as plt\n",
    "\n",
    "plt.plot(x)\n",
    "plt.title(\"Graphical representaion\")\n",
    "plt.show()\n",
    "\n",
    "\n",
    "\n",
    "#If the matrix is Diagnolly dominant then it will be converging or it will be diverging\n"
   ]
  },
  {
   "cell_type": "code",
   "execution_count": null,
   "id": "81d9f1f4",
   "metadata": {},
   "outputs": [],
   "source": []
  }
 ],
 "metadata": {
  "kernelspec": {
   "display_name": "Python 3",
   "language": "python",
   "name": "python3"
  },
  "language_info": {
   "codemirror_mode": {
    "name": "ipython",
    "version": 3
   },
   "file_extension": ".py",
   "mimetype": "text/x-python",
   "name": "python",
   "nbconvert_exporter": "python",
   "pygments_lexer": "ipython3",
   "version": "3.8.8"
  }
 },
 "nbformat": 4,
 "nbformat_minor": 5
}
