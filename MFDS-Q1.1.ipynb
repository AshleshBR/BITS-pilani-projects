{
 "cells": [
  {
   "cell_type": "code",
   "execution_count": 20,
   "id": "aabdf097",
   "metadata": {},
   "outputs": [
    {
     "name": "stdout",
     "output_type": "stream",
     "text": [
      "The input matrix A\n",
      " [[3 2 9 8]\n",
      " [6 2 7 4]\n",
      " [0 9 2 2]\n",
      " [5 9 4 8]]\n",
      "\n",
      "Shape:  (4, 4)\n",
      "\n",
      "Matrix not is diagonally dominant\n"
     ]
    }
   ],
   "source": [
    "\n",
    "# Q1.1 - Write a function to check whether a given square matrix is diagonally dominant. Test the function on a randomly\n",
    "# generated 4 × 4 matrix.Deliverable(s) : Code that performs the check and the results obtained for the matrix \n",
    "\n",
    "import numpy as np\n",
    "\n",
    "A = np.random.randint(10, size=(4, 4)) \n",
    "# Size of the Matrix is given in the problem statement 4 X 4 \n",
    "\n",
    "print(\"The input matrix A\\n\",(A)) #Print Array (matrix)\n",
    "print(\"\\nShape: \",A.shape) #Print shape of the array\n",
    "\n",
    "# Cheking diaglonally dominant\n",
    "def DiagonallyDominant(x):\n",
    "    abs_x = np.abs(x)\n",
    "    if np.all( 2*np.diag(abs_x) >= np.sum(abs_x, axis=1)):\n",
    "        print ('\\nMatrix is diagonally dominant')\n",
    "    else:\n",
    "        print ('\\nMatrix not is diagonally dominant')\n",
    "    return\n",
    "DiagonallyDominant(A)\n"
   ]
  },
  {
   "cell_type": "code",
   "execution_count": null,
   "id": "0701f6fd",
   "metadata": {},
   "outputs": [],
   "source": []
  },
  {
   "cell_type": "code",
   "execution_count": null,
   "id": "accb4ce8",
   "metadata": {},
   "outputs": [],
   "source": []
  }
 ],
 "metadata": {
  "kernelspec": {
   "display_name": "Python 3",
   "language": "python",
   "name": "python3"
  },
  "language_info": {
   "codemirror_mode": {
    "name": "ipython",
    "version": 3
   },
   "file_extension": ".py",
   "mimetype": "text/x-python",
   "name": "python",
   "nbconvert_exporter": "python",
   "pygments_lexer": "ipython3",
   "version": "3.8.8"
  }
 },
 "nbformat": 4,
 "nbformat_minor": 5
}
